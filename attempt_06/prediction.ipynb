{
 "cells": [
  {
   "cell_type": "code",
   "execution_count": 4,
   "metadata": {},
   "outputs": [
    {
     "name": "stderr",
     "output_type": "stream",
     "text": [
      "WARNING  Environment does not support cv2.imshow() or PIL Image.show()\n",
      "\n",
      "Ultralytics YOLOv8.0.49  Python-3.10.9 torch-1.13.1+cpu CPU\n",
      "YOLOv8m-seg summary (fused): 245 layers, 27222963 parameters, 0 gradients, 110.0 GFLOPs\n",
      "\n",
      "image 1/1 E:\\AIML\\ZIP_TAG_PROJECT\\attempt_06\\1.png: 640x480 1 head, 1040.1ms\n",
      "Speed: 2.0ms preprocess, 1040.1ms inference, 50.9ms postprocess per image at shape (1, 3, 640, 640)\n",
      "Results saved to \u001b[1mruns\\segment\\predict6\u001b[0m\n"
     ]
    }
   ],
   "source": [
    "from ultralytics import YOLO\n",
    "\n",
    "model = YOLO(\"yolov8m-seg-custom.pt\")\n",
    "\n",
    "prediction = model.predict(source = \"1.png\", show = True, save = True, hide_labels = False, hide_conf = False, conf = 0.5, save_txt = False, save_crop = False, line_thickness = 2)\n",
    "\n"
   ]
  },
  {
   "cell_type": "code",
   "execution_count": 5,
   "metadata": {},
   "outputs": [
    {
     "name": "stdout",
     "output_type": "stream",
     "text": [
      "Head is there\n"
     ]
    }
   ],
   "source": [
    "if prediction[0].names[0] == \"head\":\n",
    "    print(\"Head is there\")"
   ]
  },
  {
   "cell_type": "code",
   "execution_count": null,
   "metadata": {},
   "outputs": [],
   "source": []
  }
 ],
 "metadata": {
  "kernelspec": {
   "display_name": "yolov8_segmentation2",
   "language": "python",
   "name": "python3"
  },
  "language_info": {
   "codemirror_mode": {
    "name": "ipython",
    "version": 3
   },
   "file_extension": ".py",
   "mimetype": "text/x-python",
   "name": "python",
   "nbconvert_exporter": "python",
   "pygments_lexer": "ipython3",
   "version": "3.10.9"
  },
  "orig_nbformat": 4
 },
 "nbformat": 4,
 "nbformat_minor": 2
}
