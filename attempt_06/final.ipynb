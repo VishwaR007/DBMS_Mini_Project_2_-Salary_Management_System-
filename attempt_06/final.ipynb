{
 "cells": [
  {
   "cell_type": "code",
   "execution_count": 33,
   "metadata": {},
   "outputs": [
    {
     "name": "stderr",
     "output_type": "stream",
     "text": [
      "WARNING  Environment does not support cv2.imshow() or PIL Image.show()\n",
      "\n",
      "Ultralytics YOLOv8.0.49  Python-3.10.9 torch-1.13.1+cpu CPU\n",
      "YOLOv8m-seg summary (fused): 245 layers, 27222963 parameters, 0 gradients, 110.0 GFLOPs\n",
      "\n",
      "0: 640x480 (no detections), 733.8ms\n",
      "Speed: 1.0ms preprocess, 733.8ms inference, 0.0ms postprocess per image at shape (1, 3, 640, 640)\n",
      "Results saved to \u001b[1mruns\\segment\\predict8\u001b[0m\n"
     ]
    }
   ],
   "source": [
    "from ultralytics import YOLO\n",
    "import cv2\n",
    "\n",
    "model = YOLO(\"yolov8m-seg-custom.pt\")\n",
    "\n",
    "img_real = cv2.imread(\"E:\\\\AIML\\\\ZIP_TAG_PROJECT\\\\attempt_06\\\\final_check_imgs\\\\Without_Head.jpg\")\n",
    "\n",
    "prediction = model.predict(source = img_real, show = True, save = True, hide_labels = False, hide_conf = False, conf = 0.5, save_txt = False, save_crop = False, line_thickness = 2)\n"
   ]
  },
  {
   "cell_type": "code",
   "execution_count": 34,
   "metadata": {},
   "outputs": [
    {
     "name": "stdout",
     "output_type": "stream",
     "text": [
      "L :  0.5504183861811058\n",
      "P :  14.525111162631864\n"
     ]
    },
    {
     "data": {
      "text/plain": [
       "True"
      ]
     },
     "execution_count": 34,
     "metadata": {},
     "output_type": "execute_result"
    }
   ],
   "source": [
    "from scipy.spatial import distance as dist\n",
    "from imutils import perspective\n",
    "from imutils import contours\n",
    "import numpy as np\n",
    "import imutils\n",
    "\n",
    "def midpoint(ptA, ptB):\n",
    "    return ((ptA[0] + ptB[0]) * 0.5, (ptA[1] + ptB[1]) * 0.5)\n",
    "\n",
    "# img_real = cv2.imread(\"E:\\AIML\\ZIP_TAG_PROJECT\\attempt_06\\final_check_imgs\\1.png\")\n",
    "img = cv2.resize(img_real, (700, 700))\n",
    "\n",
    "gray = cv2.cvtColor(img, cv2.COLOR_BGR2GRAY)\n",
    "blur = cv2.GaussianBlur(gray, (15, 15), 0)\n",
    "thresh = cv2.adaptiveThreshold(blur,255,cv2.ADAPTIVE_THRESH_GAUSSIAN_C,cv2.THRESH_BINARY_INV,11,2)\n",
    "kernel = np.ones((3,3),np.uint8)\n",
    "closing = cv2.morphologyEx(thresh,cv2.MORPH_CLOSE,kernel,iterations=3)\n",
    "\n",
    "result_img = closing.copy()\n",
    "contours,hierachy = cv2.findContours(result_img,cv2.RETR_EXTERNAL,cv2.CHAIN_APPROX_SIMPLE)\n",
    "hitung_objek = 0\n",
    "\n",
    "pixelsPerMetric = None\n",
    "\n",
    "for cnt in contours:\n",
    "    area = cv2.contourArea(cnt)\n",
    "\n",
    "    if area < 1000 or area > 120000:\n",
    "        continue\n",
    "\n",
    "    orig = img.copy()\n",
    "    box = cv2.minAreaRect(cnt)\n",
    "    box = cv2.cv.BoxPoints(box) if imutils.is_cv2() else cv2.boxPoints(box)\n",
    "    box = np.array(box, dtype=\"int\")\n",
    "    box = perspective.order_points(box)\n",
    "    cv2.drawContours(orig, [box.astype(\"int\")], -1, (0, 255, 64), 2)\n",
    "\n",
    "    for (x, y) in box:\n",
    "        cv2.circle(orig, (int(x), int(y)), 5, (0, 255, 64), -1)\n",
    "   \n",
    "    (tl, tr, br, bl) = box\n",
    "    (tltrX, tltrY) = midpoint(tl, tr)\n",
    "    (blbrX, blbrY) = midpoint(bl, br)\n",
    "    (tlblX, tlblY) = midpoint(tl, bl)\n",
    "    (trbrX, trbrY) = midpoint(tr, br)\n",
    "\n",
    "    cv2.circle(orig, (int(tltrX), int(tltrY)), 0, (0, 255, 64), 5)\n",
    "    cv2.circle(orig, (int(blbrX), int(blbrY)), 0, (0, 255, 64), 5)\n",
    "    cv2.circle(orig, (int(tlblX), int(tlblY)), 0, (0, 255, 64), 5)\n",
    "    cv2.circle(orig, (int(trbrX), int(trbrY)), 0, (0, 255, 64), 5)\n",
    "\n",
    "    cv2.line(orig, (int(tltrX), int(tltrY)), (int(blbrX), int(blbrY)),\n",
    "            (255, 0, 255), 2)\n",
    "    cv2.line(orig, (int(tlblX), int(tlblY)), (int(trbrX), int(trbrY)),\n",
    "            (255, 0, 255), 2)\n",
    "    \n",
    "    lebar_pixel = dist.euclidean((tltrX, tltrY), (blbrX, blbrY))\n",
    "    panjang_pixel = dist.euclidean((tlblX, tlblY), (trbrX, trbrY))\n",
    "\n",
    "    if pixelsPerMetric is None:\n",
    "        pixelsPerMetric = lebar_pixel\n",
    "        pixelsPerMetric = panjang_pixel\n",
    "    lebar = lebar_pixel\n",
    "    panjang = panjang_pixel\n",
    "\n",
    "    print(\"L : \", format(lebar_pixel/25.5))\n",
    "    print(\"P : \", format(panjang_pixel/25.5))\n",
    "\n",
    "    cv2.putText(orig, \"L: {:.1f}CM\".format(lebar_pixel/25.5),(int(trbrX + 10), int(trbrY)), cv2.FONT_HERSHEY_SIMPLEX,0.7, (0,0,255), 2)\n",
    "    cv2.putText(orig, \"P: {:.1f}CM\".format(panjang_pixel/25.5),(int(tltrX - 15), int(tltrY - 10)), cv2.FONT_HERSHEY_SIMPLEX,0.7, (0,0,255), 2)\n",
    "    #cv2.putText(orig,str(area),(int(x),int(y)),cv2.FONT_HERSHEY_SIMPLEX, 0.6,(0,0,0),2)\n",
    "    hitung_objek+=1\n",
    "\n",
    "\n",
    "cv2.putText(orig, \"Image: {}\".format(hitung_objek),(10,50),cv2.FONT_HERSHEY_SIMPLEX, 1, (0,0,255),2, cv2.LINE_AA)  \n",
    "# cv2.imshow('Kamera',orig)\n",
    "cv2.imwrite(\"E:\\\\AIML\\\\ZIP_TAG_PROJECT\\\\attempt_06\\\\dimensions_output_folder\\\\output.jpg\", orig)\n",
    "# cv2.waitKey(0)"
   ]
  },
  {
   "cell_type": "code",
   "execution_count": 39,
   "metadata": {},
   "outputs": [
    {
     "name": "stdout",
     "output_type": "stream",
     "text": [
      "Head is not there\n",
      "Tail Present \n",
      "BAD PRODUCT ... :(\n"
     ]
    },
    {
     "ename": "",
     "evalue": "",
     "output_type": "error",
     "traceback": [
      "\u001b[1;31mThe Kernel crashed while executing code in the the current cell or a previous cell. Please review the code in the cell(s) to identify a possible cause of the failure. Click <a href='https://aka.ms/vscodeJupyterKernelCrash'>here</a> for more info. View Jupyter <a href='command:jupyter.viewOutput'>log</a> for further details."
     ]
    }
   ],
   "source": [
    "\n",
    "# Initilising the result variable to ZERO :     1 => GOOD    0 => BAD\n",
    "HEAD = 1\n",
    "\n",
    "# First Check using head condition\n",
    "if len(prediction[0].boxes) == 1:\n",
    "    print(\"Head is there\")\n",
    "    HEAD = 1\n",
    "else:\n",
    "    print(\"Head is not there\")\n",
    "    HEAD = 0\n",
    "\n",
    "# Assigning values of dimensions of the body to VARIABLES and creating an ARRAY.\n",
    "L = format(lebar_pixel/25.5)\n",
    "R = format(panjang_pixel/25.5)\n",
    "arr1 = [L, R]\n",
    "\n",
    "# print(arr1)\n",
    "# print(type(arr1))\n",
    "\n",
    "TAIL = 1\n",
    "# Checking the tail condition\n",
    "for i in range(len(arr1)):\n",
    "    val_of_arr1_in_int_01 = float(arr1[i])\n",
    "    val_of_arr1_in_int_02 = float(arr1[i+1])\n",
    "\n",
    "    if (val_of_arr1_in_int_01 > 12.0 or val_of_arr1_in_int_02 > 12.0) :\n",
    "        print(\"Tail Present \")\n",
    "        TAIL = 1\n",
    "    else :\n",
    "        print(\"TAIL CUT\")\n",
    "        TAIL = 0\n",
    "    break\n",
    "\n",
    "\n",
    "# THE LAST RESULT CONDITION :\n",
    "if HEAD == 1 and TAIL == 1:\n",
    "    print(\"GOOD PRODUCT ... :)\")\n",
    "else :\n",
    "    print(\"BAD PRODUCT ... :(\")"
   ]
  }
 ],
 "metadata": {
  "kernelspec": {
   "display_name": "yolov8_segmentation2",
   "language": "python",
   "name": "python3"
  },
  "language_info": {
   "codemirror_mode": {
    "name": "ipython",
    "version": 3
   },
   "file_extension": ".py",
   "mimetype": "text/x-python",
   "name": "python",
   "nbconvert_exporter": "python",
   "pygments_lexer": "ipython3",
   "version": "3.10.9"
  },
  "orig_nbformat": 4
 },
 "nbformat": 4,
 "nbformat_minor": 2
}
